{
 "cells": [
  {
   "cell_type": "markdown",
   "metadata": {},
   "source": [
    "### Question 1a)"
   ]
  },
  {
   "cell_type": "code",
   "execution_count": 3,
   "metadata": {},
   "outputs": [],
   "source": [
    "import pandas as pd\n",
    "import numpy as np\n",
    "from scipy import stats\n",
    "from scipy.stats import binom"
   ]
  },
  {
   "cell_type": "code",
   "execution_count": 3,
   "metadata": {},
   "outputs": [
    {
     "data": {
      "text/html": [
       "<div>\n",
       "<style scoped>\n",
       "    .dataframe tbody tr th:only-of-type {\n",
       "        vertical-align: middle;\n",
       "    }\n",
       "\n",
       "    .dataframe tbody tr th {\n",
       "        vertical-align: top;\n",
       "    }\n",
       "\n",
       "    .dataframe thead th {\n",
       "        text-align: right;\n",
       "    }\n",
       "</style>\n",
       "<table border=\"1\" class=\"dataframe\">\n",
       "  <thead>\n",
       "    <tr style=\"text-align: right;\">\n",
       "      <th></th>\n",
       "      <th>Number Killed by Wolves</th>\n",
       "    </tr>\n",
       "    <tr>\n",
       "      <th>Age of Moose in Years</th>\n",
       "      <th></th>\n",
       "    </tr>\n",
       "  </thead>\n",
       "  <tbody>\n",
       "    <tr>\n",
       "      <td>Calf (0.5)</td>\n",
       "      <td>112</td>\n",
       "    </tr>\n",
       "    <tr>\n",
       "      <td>1-5</td>\n",
       "      <td>53</td>\n",
       "    </tr>\n",
       "    <tr>\n",
       "      <td>6-10</td>\n",
       "      <td>73</td>\n",
       "    </tr>\n",
       "    <tr>\n",
       "      <td>11-15</td>\n",
       "      <td>56</td>\n",
       "    </tr>\n",
       "    <tr>\n",
       "      <td>16-20</td>\n",
       "      <td>2</td>\n",
       "    </tr>\n",
       "  </tbody>\n",
       "</table>\n",
       "</div>"
      ],
      "text/plain": [
       "                       Number Killed by Wolves\n",
       "Age of Moose in Years                         \n",
       "Calf (0.5)                                 112\n",
       "1-5                                         53\n",
       "6-10                                        73\n",
       "11-15                                       56\n",
       "16-20                                        2"
      ]
     },
     "execution_count": 3,
     "metadata": {},
     "output_type": "execute_result"
    }
   ],
   "source": [
    "df = pd.DataFrame(data={'Age of Moose in Years':['Calf (0.5)', '1-5', '6-10', '11-15', '16-20'], \n",
    "                        'Number Killed by Wolves': [112, 53, 73, 56, 2]})\n",
    "df = df.set_index('Age of Moose in Years')\n",
    "df"
   ]
  },
  {
   "cell_type": "code",
   "execution_count": 4,
   "metadata": {},
   "outputs": [
    {
     "data": {
      "text/html": [
       "<div>\n",
       "<style scoped>\n",
       "    .dataframe tbody tr th:only-of-type {\n",
       "        vertical-align: middle;\n",
       "    }\n",
       "\n",
       "    .dataframe tbody tr th {\n",
       "        vertical-align: top;\n",
       "    }\n",
       "\n",
       "    .dataframe thead th {\n",
       "        text-align: right;\n",
       "    }\n",
       "</style>\n",
       "<table border=\"1\" class=\"dataframe\">\n",
       "  <thead>\n",
       "    <tr style=\"text-align: right;\">\n",
       "      <th></th>\n",
       "      <th>Number Killed by Wolves</th>\n",
       "      <th>Probability of Event</th>\n",
       "    </tr>\n",
       "    <tr>\n",
       "      <th>Age of Moose in Years</th>\n",
       "      <th></th>\n",
       "      <th></th>\n",
       "    </tr>\n",
       "  </thead>\n",
       "  <tbody>\n",
       "    <tr>\n",
       "      <td>Calf (0.5)</td>\n",
       "      <td>112</td>\n",
       "      <td>0.378378</td>\n",
       "    </tr>\n",
       "    <tr>\n",
       "      <td>1-5</td>\n",
       "      <td>53</td>\n",
       "      <td>0.179054</td>\n",
       "    </tr>\n",
       "    <tr>\n",
       "      <td>6-10</td>\n",
       "      <td>73</td>\n",
       "      <td>0.246622</td>\n",
       "    </tr>\n",
       "    <tr>\n",
       "      <td>11-15</td>\n",
       "      <td>56</td>\n",
       "      <td>0.189189</td>\n",
       "    </tr>\n",
       "    <tr>\n",
       "      <td>16-20</td>\n",
       "      <td>2</td>\n",
       "      <td>0.006757</td>\n",
       "    </tr>\n",
       "  </tbody>\n",
       "</table>\n",
       "</div>"
      ],
      "text/plain": [
       "                       Number Killed by Wolves  Probability of Event\n",
       "Age of Moose in Years                                               \n",
       "Calf (0.5)                                 112              0.378378\n",
       "1-5                                         53              0.179054\n",
       "6-10                                        73              0.246622\n",
       "11-15                                       56              0.189189\n",
       "16-20                                        2              0.006757"
      ]
     },
     "execution_count": 4,
     "metadata": {},
     "output_type": "execute_result"
    }
   ],
   "source": [
    "total = df['Number Killed by Wolves'].sum()\n",
    "df['Probability of Event'] = df['Number Killed by Wolves'] / total\n",
    "df"
   ]
  },
  {
   "cell_type": "markdown",
   "metadata": {},
   "source": [
    "### Question 1b)"
   ]
  },
  {
   "cell_type": "code",
   "execution_count": 5,
   "metadata": {},
   "outputs": [
    {
     "data": {
      "text/html": [
       "<div>\n",
       "<style scoped>\n",
       "    .dataframe tbody tr th:only-of-type {\n",
       "        vertical-align: middle;\n",
       "    }\n",
       "\n",
       "    .dataframe tbody tr th {\n",
       "        vertical-align: top;\n",
       "    }\n",
       "\n",
       "    .dataframe thead th {\n",
       "        text-align: right;\n",
       "    }\n",
       "</style>\n",
       "<table border=\"1\" class=\"dataframe\">\n",
       "  <thead>\n",
       "    <tr style=\"text-align: right;\">\n",
       "      <th></th>\n",
       "      <th>Number Killed by Wolves</th>\n",
       "      <th>Probability of Event</th>\n",
       "      <th>Class Midpoint</th>\n",
       "    </tr>\n",
       "    <tr>\n",
       "      <th>Age of Moose in Years</th>\n",
       "      <th></th>\n",
       "      <th></th>\n",
       "      <th></th>\n",
       "    </tr>\n",
       "  </thead>\n",
       "  <tbody>\n",
       "    <tr>\n",
       "      <td>Calf (0.5)</td>\n",
       "      <td>112</td>\n",
       "      <td>0.378378</td>\n",
       "      <td>0.5</td>\n",
       "    </tr>\n",
       "    <tr>\n",
       "      <td>1-5</td>\n",
       "      <td>53</td>\n",
       "      <td>0.179054</td>\n",
       "      <td>3.0</td>\n",
       "    </tr>\n",
       "    <tr>\n",
       "      <td>6-10</td>\n",
       "      <td>73</td>\n",
       "      <td>0.246622</td>\n",
       "      <td>8.0</td>\n",
       "    </tr>\n",
       "    <tr>\n",
       "      <td>11-15</td>\n",
       "      <td>56</td>\n",
       "      <td>0.189189</td>\n",
       "      <td>13.0</td>\n",
       "    </tr>\n",
       "    <tr>\n",
       "      <td>16-20</td>\n",
       "      <td>2</td>\n",
       "      <td>0.006757</td>\n",
       "      <td>18.0</td>\n",
       "    </tr>\n",
       "  </tbody>\n",
       "</table>\n",
       "</div>"
      ],
      "text/plain": [
       "                       Number Killed by Wolves  Probability of Event  \\\n",
       "Age of Moose in Years                                                  \n",
       "Calf (0.5)                                 112              0.378378   \n",
       "1-5                                         53              0.179054   \n",
       "6-10                                        73              0.246622   \n",
       "11-15                                       56              0.189189   \n",
       "16-20                                        2              0.006757   \n",
       "\n",
       "                       Class Midpoint  \n",
       "Age of Moose in Years                  \n",
       "Calf (0.5)                        0.5  \n",
       "1-5                               3.0  \n",
       "6-10                              8.0  \n",
       "11-15                            13.0  \n",
       "16-20                            18.0  "
      ]
     },
     "execution_count": 5,
     "metadata": {},
     "output_type": "execute_result"
    }
   ],
   "source": [
    "df['Class Midpoint'] = [0.5, 3, 8, 13, 18]\n",
    "df"
   ]
  },
  {
   "cell_type": "code",
   "execution_count": 6,
   "metadata": {},
   "outputs": [
    {
     "name": "stdout",
     "output_type": "stream",
     "text": [
      "Expected Age:  5.28\n"
     ]
    }
   ],
   "source": [
    "expected_age = (df['Class Midpoint'] * df['Probability of Event']).sum()\n",
    "print('Expected Age: ', round(expected_age, 2))"
   ]
  },
  {
   "cell_type": "code",
   "execution_count": 7,
   "metadata": {},
   "outputs": [
    {
     "name": "stdout",
     "output_type": "stream",
     "text": [
      "Standard Deviation:  4.8754\n"
     ]
    }
   ],
   "source": [
    "std = np.sqrt(((df['Class Midpoint'] - expected_age) ** 2 * df['Probability of Event']).sum())\n",
    "print('Standard Deviation: ', round(std, 4))"
   ]
  },
  {
   "cell_type": "markdown",
   "metadata": {},
   "source": [
    "### Question 2a)"
   ]
  },
  {
   "cell_type": "code",
   "execution_count": 13,
   "metadata": {},
   "outputs": [
    {
     "name": "stdout",
     "output_type": "stream",
     "text": [
      "Likelihood of acception:  0.9245\n"
     ]
    }
   ],
   "source": [
    "n = 20\n",
    "r = [18, 19, 20]\n",
    "p = 0.95\n",
    "\n",
    "p_5 = binom.pmf(r, n, p).sum()\n",
    "print('Likelihood of acception: ', round(p_5, 4))"
   ]
  },
  {
   "cell_type": "markdown",
   "metadata": {},
   "source": [
    "### Question 2b)"
   ]
  },
  {
   "cell_type": "code",
   "execution_count": 20,
   "metadata": {},
   "outputs": [
    {
     "name": "stdout",
     "output_type": "stream",
     "text": [
      "Likelihood of rejection:  0.5951\n"
     ]
    }
   ],
   "source": [
    "p = 0.85\n",
    "\n",
    "p_15 = binom.pmf(r, n, p).sum()\n",
    "q_15 = 1 - p_15\n",
    "print('Likelihood of rejection: ', round(q_15, 4))"
   ]
  },
  {
   "cell_type": "markdown",
   "metadata": {},
   "source": [
    "### Question 3a)"
   ]
  },
  {
   "cell_type": "code",
   "execution_count": 13,
   "metadata": {},
   "outputs": [
    {
     "name": "stdout",
     "output_type": "stream",
     "text": [
      "Likelihood of passing on the first try:  0.83\n"
     ]
    }
   ],
   "source": [
    "n = 1\n",
    "p = 0.83\n",
    "\n",
    "p_1 = p * ((1 - p) ** (n-1))\n",
    "print('Likelihood of passing on the first try: ', p_1)"
   ]
  },
  {
   "cell_type": "markdown",
   "metadata": {},
   "source": [
    "### Question 3b)"
   ]
  },
  {
   "cell_type": "code",
   "execution_count": 14,
   "metadata": {},
   "outputs": [
    {
     "name": "stdout",
     "output_type": "stream",
     "text": [
      "Likelihood of passing on the second or third try:  0.1651\n"
     ]
    }
   ],
   "source": [
    "n = [2, 3]\n",
    "\n",
    "p_2or3 = sum([p * ((1 - p) ** (trial-1)) for trial in n])\n",
    "print('Likelihood of passing on the second or third try: ', round(p_2or3, 4))"
   ]
  },
  {
   "cell_type": "markdown",
   "metadata": {},
   "source": [
    "### Question 4a)"
   ]
  },
  {
   "cell_type": "code",
   "execution_count": 15,
   "metadata": {},
   "outputs": [
    {
     "data": {
      "text/plain": [
       "0.11363636363636363"
      ]
     },
     "execution_count": 15,
     "metadata": {},
     "output_type": "execute_result"
    }
   ],
   "source": [
    "mu = 10.75\n",
    "sigma = 2.2\n",
    "x = 11\n",
    "\n",
    "z = (x - mu) / sigma\n",
    "z"
   ]
  },
  {
   "cell_type": "code",
   "execution_count": 16,
   "metadata": {},
   "outputs": [
    {
     "name": "stdout",
     "output_type": "stream",
     "text": [
      "Likelihood of battery life exceeding 11 hours:  0.4548\n"
     ]
    }
   ],
   "source": [
    "area_right = 1 - stats.norm.cdf(z)\n",
    "print(f'Likelihood of battery life exceeding {x} hours: ', round(area_right, 4))"
   ]
  },
  {
   "cell_type": "markdown",
   "metadata": {},
   "source": [
    "### Question 4b)"
   ]
  },
  {
   "cell_type": "code",
   "execution_count": 17,
   "metadata": {},
   "outputs": [
    {
     "name": "stdout",
     "output_type": "stream",
     "text": [
      "Hours after which you should plan to charge your phone:  7.13\n"
     ]
    }
   ],
   "source": [
    "x_score = stats.norm.ppf(0.05, loc=mu, scale=sigma)\n",
    "print('Hours after which you should plan to charge your phone: ', round(x_score, 2))"
   ]
  },
  {
   "cell_type": "markdown",
   "metadata": {},
   "source": [
    "### Question 5a)"
   ]
  },
  {
   "cell_type": "code",
   "execution_count": 18,
   "metadata": {},
   "outputs": [],
   "source": [
    "mu = 45\n",
    "sigma = 12"
   ]
  },
  {
   "cell_type": "code",
   "execution_count": 19,
   "metadata": {},
   "outputs": [
    {
     "data": {
      "text/plain": [
       "0.1056"
      ]
     },
     "execution_count": 19,
     "metadata": {},
     "output_type": "execute_result"
    }
   ],
   "source": [
    "x1 = 60\n",
    "z1 = (x1 - mu) / sigma\n",
    "p_a = 1 - stats.norm.cdf(z1)\n",
    "round(p_a, 4)"
   ]
  },
  {
   "cell_type": "code",
   "execution_count": 20,
   "metadata": {},
   "outputs": [
    {
     "data": {
      "text/plain": [
       "0.2023"
      ]
     },
     "execution_count": 20,
     "metadata": {},
     "output_type": "execute_result"
    }
   ],
   "source": [
    "x2 = 55\n",
    "z2 = (x2 - mu) / sigma\n",
    "p_b = 1 - stats.norm.cdf(z2)\n",
    "round(p_b, 4)"
   ]
  },
  {
   "cell_type": "code",
   "execution_count": 21,
   "metadata": {},
   "outputs": [
    {
     "name": "stdout",
     "output_type": "stream",
     "text": [
      "Likelihood that cycle time will exceed 60 minutes, given it has already exceeded 55 minutes:  0.5222\n"
     ]
    }
   ],
   "source": [
    "print('Likelihood that cycle time will exceed 60 minutes, given it has already exceeded 55 minutes: ', \n",
    "      round(p_a / p_b, 4))"
   ]
  },
  {
   "cell_type": "markdown",
   "metadata": {},
   "source": [
    "### Question 5b)"
   ]
  },
  {
   "cell_type": "code",
   "execution_count": 22,
   "metadata": {},
   "outputs": [
    {
     "data": {
      "text/plain": [
       "0.6615"
      ]
     },
     "execution_count": 22,
     "metadata": {},
     "output_type": "execute_result"
    }
   ],
   "source": [
    "x3 = 40\n",
    "z3 = (x3 - mu) / sigma\n",
    "p_c = 1 - stats.norm.cdf(z3)\n",
    "round(p_c, 4)"
   ]
  },
  {
   "cell_type": "code",
   "execution_count": 23,
   "metadata": {},
   "outputs": [
    {
     "name": "stdout",
     "output_type": "stream",
     "text": [
      "Likelihood that cycle time will exceed 55 minutes, given it has already exceeded 40 minutes:  0.3058\n"
     ]
    }
   ],
   "source": [
    "print('Likelihood that cycle time will exceed 55 minutes, given it has already exceeded 40 minutes: ', \n",
    "      round(p_b / p_c, 4))"
   ]
  },
  {
   "cell_type": "markdown",
   "metadata": {},
   "source": [
    "### Question 6a)"
   ]
  },
  {
   "cell_type": "code",
   "execution_count": 24,
   "metadata": {},
   "outputs": [],
   "source": [
    "mu = 38\n",
    "sigma = 5\n",
    "x = 35"
   ]
  },
  {
   "cell_type": "code",
   "execution_count": 25,
   "metadata": {},
   "outputs": [
    {
     "name": "stdout",
     "output_type": "stream",
     "text": [
      "Likelihood that drug goes into effect in 35 minutes or less:  0.2743\n"
     ]
    }
   ],
   "source": [
    "z = (x - mu) / sigma\n",
    "p = stats.norm.cdf(z)\n",
    "print('Likelihood that drug goes into effect in 35 minutes or less: ', round(p, 4))"
   ]
  },
  {
   "cell_type": "markdown",
   "metadata": {},
   "source": [
    "### Question 6b)"
   ]
  },
  {
   "cell_type": "code",
   "execution_count": 26,
   "metadata": {},
   "outputs": [
    {
     "data": {
      "text/plain": [
       "1.5811388300841895"
      ]
     },
     "execution_count": 26,
     "metadata": {},
     "output_type": "execute_result"
    }
   ],
   "source": [
    "n = 10\n",
    "sigma_x = sigma / (np.sqrt(n))\n",
    "sigma_x"
   ]
  },
  {
   "cell_type": "code",
   "execution_count": 27,
   "metadata": {},
   "outputs": [
    {
     "name": "stdout",
     "output_type": "stream",
     "text": [
      "Likelihood of avg time before the drug is effective for all 10 random patients is 35 minutes or less:  0.0289\n"
     ]
    }
   ],
   "source": [
    "z = (x - mu) / sigma_x\n",
    "p = stats.norm.cdf(z)\n",
    "print('Likelihood of avg time before the drug is effective for all 10 random patients is 35 minutes or less: ', \n",
    "      round(p, 4))"
   ]
  },
  {
   "cell_type": "markdown",
   "metadata": {},
   "source": [
    "### Question 6c)"
   ]
  },
  {
   "cell_type": "markdown",
   "metadata": {},
   "source": [
    "What we see between the two questions above is a difference of 0.2454, or 24.54%, which is a massive difference, especially when considering the second probability was almost 0. This is due to the difference in the standard deviation calculations for the respective problems. The first problem tells us that the standard deviation is 5 minutes, but that changes when we calculate for the random sample size of 10 patients. Here, the standard deviation comes out to about 1.58, which is significantly less. Now the target mark of the drug being effective within 35 minutes has moved from within one standard deviation of the 38-minute mean, to within two standard deviations of the mean, significantly reducing the likelihood that all 10 randomly selected patients will be affected by the drug within 35 minutes. It's intuitive and expected that the likelihood of the drug working within the time frame is greater on any individual trial than it would be for 10 consecutive trials."
   ]
  },
  {
   "cell_type": "markdown",
   "metadata": {},
   "source": [
    "### Question 7a)"
   ]
  },
  {
   "cell_type": "code",
   "execution_count": 28,
   "metadata": {},
   "outputs": [
    {
     "data": {
      "text/plain": [
       "(34.0, 6.000000000000001)"
      ]
     },
     "execution_count": 28,
     "metadata": {},
     "output_type": "execute_result"
    }
   ],
   "source": [
    "n = 40\n",
    "p = 0.85\n",
    "q = 1 - p\n",
    "\n",
    "n*p, n*q "
   ]
  },
  {
   "cell_type": "markdown",
   "metadata": {},
   "source": [
    "Given the above values for this problem, np and nq are both > 5, therefore it meets the criteria to use normal approximation to this binomial distribution."
   ]
  },
  {
   "cell_type": "markdown",
   "metadata": {},
   "source": [
    "### Question 7b)"
   ]
  },
  {
   "cell_type": "code",
   "execution_count": 29,
   "metadata": {},
   "outputs": [
    {
     "name": "stdout",
     "output_type": "stream",
     "text": [
      "mu:     34.0\n",
      "sigma:  2.2583179581272432\n"
     ]
    }
   ],
   "source": [
    "mu = n * p\n",
    "sigma = np.sqrt(n * p * q)\n",
    "print('mu:    ', mu)\n",
    "print('sigma: ', sigma)"
   ]
  },
  {
   "cell_type": "markdown",
   "metadata": {},
   "source": [
    "### Question 7c)"
   ]
  },
  {
   "cell_type": "markdown",
   "metadata": {},
   "source": [
    "x = r + 0.5\n",
    "r < 30\n",
    "\n",
    "P(r < 30) is approximated by P(x < 30.5)"
   ]
  },
  {
   "cell_type": "markdown",
   "metadata": {},
   "source": [
    "### Question 7d)"
   ]
  },
  {
   "cell_type": "code",
   "execution_count": 30,
   "metadata": {},
   "outputs": [
    {
     "name": "stdout",
     "output_type": "stream",
     "text": [
      "Estimate P(r < 30):  0.0606\n"
     ]
    }
   ],
   "source": [
    "x = 30.5\n",
    "z = (x - mu) / sigma\n",
    "p = stats.norm.cdf(z)\n",
    "print('Estimate P(r < 30): ', round(p, 4))"
   ]
  },
  {
   "cell_type": "markdown",
   "metadata": {},
   "source": [
    "According to the calculation above, there is only a probability of 6.06% that this binomial experiment with a success rate of 85% will have fewer than 30 successes out of 40 trials. We can conclude that an outcome of less than 30 successes is highly unlikely."
   ]
  },
  {
   "cell_type": "markdown",
   "metadata": {},
   "source": [
    "### Question 8a)"
   ]
  },
  {
   "cell_type": "code",
   "execution_count": 31,
   "metadata": {},
   "outputs": [
    {
     "data": {
      "text/plain": [
       "(6.93, 26.07)"
      ]
     },
     "execution_count": 31,
     "metadata": {},
     "output_type": "execute_result"
    }
   ],
   "source": [
    "n = 33\n",
    "p = 0.21\n",
    "q = 1 - p\n",
    "\n",
    "n*p, n*q"
   ]
  },
  {
   "cell_type": "markdown",
   "metadata": {},
   "source": [
    "As seen in the above calculations, the np and nq values are both > 5, so we can approximate the  𝑝̂ distribution by a normal distribution."
   ]
  },
  {
   "cell_type": "code",
   "execution_count": 32,
   "metadata": {},
   "outputs": [
    {
     "name": "stdout",
     "output_type": "stream",
     "text": [
      "mu_p:     0.21\n",
      "sigma_p:  2.9617818789934844\n"
     ]
    }
   ],
   "source": [
    "mu_p = p\n",
    "sigma_p = np.sqrt(p * n / q)\n",
    "\n",
    "print('mu_p:    ', mu_p)\n",
    "print('sigma_p: ', sigma_p)"
   ]
  },
  {
   "cell_type": "markdown",
   "metadata": {},
   "source": [
    "### Question 8b)"
   ]
  },
  {
   "cell_type": "code",
   "execution_count": 33,
   "metadata": {},
   "outputs": [
    {
     "data": {
      "text/plain": [
       "(3.75, 21.25)"
      ]
     },
     "execution_count": 33,
     "metadata": {},
     "output_type": "execute_result"
    }
   ],
   "source": [
    "n = 25\n",
    "p = 0.15\n",
    "q = 1 - p\n",
    "\n",
    "n*p, n*q"
   ]
  },
  {
   "cell_type": "markdown",
   "metadata": {},
   "source": [
    "As seen directly above, the nq value satisfies the requirement > 5, but the np value falls short. Therefore, we cannot safely approximate the 𝑝̂ distribution by a normal distribution."
   ]
  },
  {
   "cell_type": "markdown",
   "metadata": {},
   "source": [
    "### Question 8c)"
   ]
  },
  {
   "cell_type": "code",
   "execution_count": 34,
   "metadata": {},
   "outputs": [
    {
     "data": {
      "text/plain": [
       "(7.199999999999999, 40.8)"
      ]
     },
     "execution_count": 34,
     "metadata": {},
     "output_type": "execute_result"
    }
   ],
   "source": [
    "n = 48\n",
    "\n",
    "n*p, n*q"
   ]
  },
  {
   "cell_type": "markdown",
   "metadata": {},
   "source": [
    "As seen in the above calculations, the np and nq values are both > 5, so we can approximate the 𝑝̂ distribution by a normal distribution."
   ]
  },
  {
   "cell_type": "code",
   "execution_count": 36,
   "metadata": {},
   "outputs": [
    {
     "name": "stdout",
     "output_type": "stream",
     "text": [
      "mu_p:     0.15\n",
      "sigma_p:  0.05153882032022076\n"
     ]
    }
   ],
   "source": [
    "mu_p = p\n",
    "sigma_p = np.sqrt(p * q / n)\n",
    "\n",
    "print('mu_p:    ', mu_p)\n",
    "print('sigma_p: ', sigma_p)"
   ]
  },
  {
   "cell_type": "code",
   "execution_count": null,
   "metadata": {},
   "outputs": [],
   "source": []
  },
  {
   "cell_type": "code",
   "execution_count": null,
   "metadata": {},
   "outputs": [],
   "source": []
  },
  {
   "cell_type": "code",
   "execution_count": null,
   "metadata": {},
   "outputs": [],
   "source": []
  }
 ],
 "metadata": {
  "kernelspec": {
   "display_name": "Python 3",
   "language": "python",
   "name": "python3"
  },
  "language_info": {
   "codemirror_mode": {
    "name": "ipython",
    "version": 3
   },
   "file_extension": ".py",
   "mimetype": "text/x-python",
   "name": "python",
   "nbconvert_exporter": "python",
   "pygments_lexer": "ipython3",
   "version": "3.7.4"
  }
 },
 "nbformat": 4,
 "nbformat_minor": 2
}
