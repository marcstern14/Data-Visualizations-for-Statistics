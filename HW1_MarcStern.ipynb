{
 "cells": [
  {
   "cell_type": "markdown",
   "metadata": {},
   "source": [
    "# CSIT 528 Homework 1\n",
    "## [Name]: Marc Stern\n"
   ]
  },
  {
   "cell_type": "markdown",
   "metadata": {},
   "source": [
    "Import libraries"
   ]
  },
  {
   "cell_type": "code",
   "execution_count": 2,
   "metadata": {},
   "outputs": [],
   "source": [
    "%matplotlib inline\n",
    "\n",
    "import pandas as pd\n",
    "import numpy as np\n",
    "from scipy.stats import trim_mean\n",
    "\n",
    "import seaborn as sns\n",
    "import matplotlib.pylab as plt\n",
    "pd.options.display.max_rows = 10"
   ]
  },
  {
   "cell_type": "markdown",
   "metadata": {},
   "source": [
    "Load the Data \n",
    "\n",
    "2008 US state election results"
   ]
  },
  {
   "cell_type": "code",
   "execution_count": 3,
   "metadata": {
    "scrolled": true
   },
   "outputs": [
    {
     "data": {
      "text/html": [
       "<div>\n",
       "<style scoped>\n",
       "    .dataframe tbody tr th:only-of-type {\n",
       "        vertical-align: middle;\n",
       "    }\n",
       "\n",
       "    .dataframe tbody tr th {\n",
       "        vertical-align: top;\n",
       "    }\n",
       "\n",
       "    .dataframe thead th {\n",
       "        text-align: right;\n",
       "    }\n",
       "</style>\n",
       "<table border=\"1\" class=\"dataframe\">\n",
       "  <thead>\n",
       "    <tr style=\"text-align: right;\">\n",
       "      <th></th>\n",
       "      <th>state</th>\n",
       "      <th>county</th>\n",
       "      <th>total_votes</th>\n",
       "      <th>dem_votes</th>\n",
       "      <th>rep_votes</th>\n",
       "      <th>other_votes</th>\n",
       "      <th>dem_share</th>\n",
       "      <th>east_west</th>\n",
       "    </tr>\n",
       "  </thead>\n",
       "  <tbody>\n",
       "    <tr>\n",
       "      <td>0</td>\n",
       "      <td>AK</td>\n",
       "      <td>State House District 8, Denali-University</td>\n",
       "      <td>10320</td>\n",
       "      <td>4995</td>\n",
       "      <td>4983</td>\n",
       "      <td>342</td>\n",
       "      <td>50.06</td>\n",
       "      <td>west</td>\n",
       "    </tr>\n",
       "    <tr>\n",
       "      <td>1</td>\n",
       "      <td>AK</td>\n",
       "      <td>State House District 37, Bristol Bay-Aleuti</td>\n",
       "      <td>4665</td>\n",
       "      <td>1868</td>\n",
       "      <td>2661</td>\n",
       "      <td>136</td>\n",
       "      <td>41.24</td>\n",
       "      <td>west</td>\n",
       "    </tr>\n",
       "    <tr>\n",
       "      <td>2</td>\n",
       "      <td>AK</td>\n",
       "      <td>State House District 12, Richardson-Glenn H</td>\n",
       "      <td>7589</td>\n",
       "      <td>1914</td>\n",
       "      <td>5467</td>\n",
       "      <td>208</td>\n",
       "      <td>25.93</td>\n",
       "      <td>west</td>\n",
       "    </tr>\n",
       "    <tr>\n",
       "      <td>3</td>\n",
       "      <td>AK</td>\n",
       "      <td>State House District 13, Greater Palmer</td>\n",
       "      <td>11526</td>\n",
       "      <td>2800</td>\n",
       "      <td>8432</td>\n",
       "      <td>294</td>\n",
       "      <td>24.93</td>\n",
       "      <td>west</td>\n",
       "    </tr>\n",
       "    <tr>\n",
       "      <td>4</td>\n",
       "      <td>AK</td>\n",
       "      <td>State House District 14, Greater Wasilla</td>\n",
       "      <td>10456</td>\n",
       "      <td>2132</td>\n",
       "      <td>8108</td>\n",
       "      <td>216</td>\n",
       "      <td>20.82</td>\n",
       "      <td>west</td>\n",
       "    </tr>\n",
       "    <tr>\n",
       "      <td>...</td>\n",
       "      <td>...</td>\n",
       "      <td>...</td>\n",
       "      <td>...</td>\n",
       "      <td>...</td>\n",
       "      <td>...</td>\n",
       "      <td>...</td>\n",
       "      <td>...</td>\n",
       "      <td>...</td>\n",
       "    </tr>\n",
       "    <tr>\n",
       "      <td>3148</td>\n",
       "      <td>OH</td>\n",
       "      <td>Hamilton County</td>\n",
       "      <td>425086</td>\n",
       "      <td>225213</td>\n",
       "      <td>195530</td>\n",
       "      <td>4343</td>\n",
       "      <td>53.53</td>\n",
       "      <td>east</td>\n",
       "    </tr>\n",
       "    <tr>\n",
       "      <td>3149</td>\n",
       "      <td>OH</td>\n",
       "      <td>Highland County</td>\n",
       "      <td>19186</td>\n",
       "      <td>6856</td>\n",
       "      <td>11907</td>\n",
       "      <td>423</td>\n",
       "      <td>36.54</td>\n",
       "      <td>east</td>\n",
       "    </tr>\n",
       "    <tr>\n",
       "      <td>3150</td>\n",
       "      <td>OH</td>\n",
       "      <td>Hocking County</td>\n",
       "      <td>12961</td>\n",
       "      <td>6259</td>\n",
       "      <td>6364</td>\n",
       "      <td>338</td>\n",
       "      <td>49.58</td>\n",
       "      <td>east</td>\n",
       "    </tr>\n",
       "    <tr>\n",
       "      <td>3151</td>\n",
       "      <td>OH</td>\n",
       "      <td>Licking County</td>\n",
       "      <td>82356</td>\n",
       "      <td>33932</td>\n",
       "      <td>46918</td>\n",
       "      <td>1506</td>\n",
       "      <td>41.97</td>\n",
       "      <td>east</td>\n",
       "    </tr>\n",
       "    <tr>\n",
       "      <td>3152</td>\n",
       "      <td>OH</td>\n",
       "      <td>Madison County</td>\n",
       "      <td>17454</td>\n",
       "      <td>6532</td>\n",
       "      <td>10606</td>\n",
       "      <td>316</td>\n",
       "      <td>38.11</td>\n",
       "      <td>east</td>\n",
       "    </tr>\n",
       "  </tbody>\n",
       "</table>\n",
       "<p>3153 rows × 8 columns</p>\n",
       "</div>"
      ],
      "text/plain": [
       "     state                                       county  total_votes  \\\n",
       "0       AK    State House District 8, Denali-University        10320   \n",
       "1       AK  State House District 37, Bristol Bay-Aleuti         4665   \n",
       "2       AK  State House District 12, Richardson-Glenn H         7589   \n",
       "3       AK      State House District 13, Greater Palmer        11526   \n",
       "4       AK     State House District 14, Greater Wasilla        10456   \n",
       "...    ...                                          ...          ...   \n",
       "3148    OH                              Hamilton County       425086   \n",
       "3149    OH                              Highland County        19186   \n",
       "3150    OH                               Hocking County        12961   \n",
       "3151    OH                               Licking County        82356   \n",
       "3152    OH                               Madison County        17454   \n",
       "\n",
       "      dem_votes  rep_votes  other_votes  dem_share east_west  \n",
       "0          4995       4983          342      50.06      west  \n",
       "1          1868       2661          136      41.24      west  \n",
       "2          1914       5467          208      25.93      west  \n",
       "3          2800       8432          294      24.93      west  \n",
       "4          2132       8108          216      20.82      west  \n",
       "...         ...        ...          ...        ...       ...  \n",
       "3148     225213     195530         4343      53.53      east  \n",
       "3149       6856      11907          423      36.54      east  \n",
       "3150       6259       6364          338      49.58      east  \n",
       "3151      33932      46918         1506      41.97      east  \n",
       "3152       6532      10606          316      38.11      east  \n",
       "\n",
       "[3153 rows x 8 columns]"
      ]
     },
     "execution_count": 3,
     "metadata": {},
     "output_type": "execute_result"
    }
   ],
   "source": [
    "election = pd.read_csv('2008_all_states.csv')\n",
    "election"
   ]
  },
  {
   "cell_type": "markdown",
   "metadata": {},
   "source": [
    "## Question 1.  Organizing Data"
   ]
  },
  {
   "cell_type": "markdown",
   "metadata": {},
   "source": [
    "### Question 1.1 [10 points] Frequency table\n",
    "Make a frequency table showing the percentages of voting for Obama (dem_share) in NJ including range of classes, frequencies, and relative frequencies. Use the 'square root' rule to decide the number of bins. "
   ]
  },
  {
   "cell_type": "code",
   "execution_count": 4,
   "metadata": {},
   "outputs": [
    {
     "data": {
      "text/plain": [
       "5.0"
      ]
     },
     "execution_count": 4,
     "metadata": {},
     "output_type": "execute_result"
    }
   ],
   "source": [
    "# calculate number of bins\n",
    "\n",
    "nj_dem_share = election.loc[election['state'] == 'NJ', 'dem_share']\n",
    "num_bins = np.ceil(np.sqrt(nj_dem_share.count()))\n",
    "num_bins"
   ]
  },
  {
   "cell_type": "code",
   "execution_count": 5,
   "metadata": {},
   "outputs": [
    {
     "data": {
      "text/plain": [
       "(39.453, 46.88]    6\n",
       "(46.88, 54.27]     3\n",
       "(54.27, 61.66]     7\n",
       "(61.66, 69.05]     3\n",
       "(69.05, 76.44]     2\n",
       "Name: dem_share, dtype: int64"
      ]
     },
     "execution_count": 5,
     "metadata": {},
     "output_type": "execute_result"
    }
   ],
   "source": [
    "# organize bins\n",
    "\n",
    "bin_pop = pd.cut(nj_dem_share, num_bins)\n",
    "bin_pop_freq = bin_pop.value_counts()\n",
    "bin_pop_freq.sort_index()"
   ]
  },
  {
   "cell_type": "code",
   "execution_count": 6,
   "metadata": {},
   "outputs": [
    {
     "data": {
      "text/html": [
       "<div>\n",
       "<style scoped>\n",
       "    .dataframe tbody tr th:only-of-type {\n",
       "        vertical-align: middle;\n",
       "    }\n",
       "\n",
       "    .dataframe tbody tr th {\n",
       "        vertical-align: top;\n",
       "    }\n",
       "\n",
       "    .dataframe thead th {\n",
       "        text-align: right;\n",
       "    }\n",
       "</style>\n",
       "<table border=\"1\" class=\"dataframe\">\n",
       "  <thead>\n",
       "    <tr style=\"text-align: right;\">\n",
       "      <th></th>\n",
       "      <th>dem_share</th>\n",
       "      <th>binnedPopulation</th>\n",
       "    </tr>\n",
       "  </thead>\n",
       "  <tbody>\n",
       "    <tr>\n",
       "      <td>935</td>\n",
       "      <td>39.49</td>\n",
       "      <td>(39.453, 46.88]</td>\n",
       "    </tr>\n",
       "    <tr>\n",
       "      <td>957</td>\n",
       "      <td>60.95</td>\n",
       "      <td>(54.27, 61.66]</td>\n",
       "    </tr>\n",
       "    <tr>\n",
       "      <td>984</td>\n",
       "      <td>54.77</td>\n",
       "      <td>(54.27, 61.66]</td>\n",
       "    </tr>\n",
       "    <tr>\n",
       "      <td>989</td>\n",
       "      <td>42.86</td>\n",
       "      <td>(39.453, 46.88]</td>\n",
       "    </tr>\n",
       "    <tr>\n",
       "      <td>990</td>\n",
       "      <td>45.90</td>\n",
       "      <td>(39.453, 46.88]</td>\n",
       "    </tr>\n",
       "  </tbody>\n",
       "</table>\n",
       "</div>"
      ],
      "text/plain": [
       "     dem_share binnedPopulation\n",
       "935      39.49  (39.453, 46.88]\n",
       "957      60.95   (54.27, 61.66]\n",
       "984      54.77   (54.27, 61.66]\n",
       "989      42.86  (39.453, 46.88]\n",
       "990      45.90  (39.453, 46.88]"
      ]
     },
     "execution_count": 6,
     "metadata": {},
     "output_type": "execute_result"
    }
   ],
   "source": [
    "# create new dataframe with binnedPopulation\n",
    "\n",
    "bin_pop.name = 'binnedPopulation'\n",
    "df = pd.concat([nj_dem_share, bin_pop], axis=1)\n",
    "df.head()"
   ]
  },
  {
   "cell_type": "code",
   "execution_count": 7,
   "metadata": {},
   "outputs": [
    {
     "name": "stdout",
     "output_type": "stream",
     "text": [
      "          BinRange  Freq  Rel-Freq\n",
      "0  (39.453, 46.88]     6  0.285714\n",
      "1   (46.88, 54.27]     3  0.142857\n",
      "2   (54.27, 61.66]     7  0.333333\n",
      "3   (61.66, 69.05]     3  0.142857\n",
      "4   (69.05, 76.44]     2  0.095238\n"
     ]
    }
   ],
   "source": [
    "# create frequency table\n",
    "\n",
    "total = df['dem_share'].count()\n",
    "groups = []\n",
    "\n",
    "for group, subset in df.groupby(by='binnedPopulation'):\n",
    "    \n",
    "    groups.append({\n",
    "        'BinRange': group,\n",
    "        'Freq': len(subset),\n",
    "        'Rel-Freq': len(subset)/total\n",
    "    })\n",
    "    \n",
    "freq_table = pd.DataFrame(groups)\n",
    "print (freq_table)"
   ]
  },
  {
   "cell_type": "markdown",
   "metadata": {},
   "source": [
    "### Question 1.2 [5 points] Histogram\n",
    "Draw the histogram showing the percentages of voting for Obama (dem_share) in NJ"
   ]
  },
  {
   "cell_type": "code",
   "execution_count": 8,
   "metadata": {
    "scrolled": true
   },
   "outputs": [
    {
     "data": {
      "image/png": "[encoded data removed]",
      "text/plain": [
       "<Figure size 288x288 with 1 Axes>"
      ]
     },
     "metadata": {
      "needs_background": "light"
     },
     "output_type": "display_data"
    }
   ],
   "source": [
    "ax = nj_dem_share.plot.hist(figsize=(4, 4), bins=5)\n",
    "ax.set_xlabel('range of % of voters who voted for Obama')\n",
    "plt.show()"
   ]
  },
  {
   "cell_type": "markdown",
   "metadata": {},
   "source": [
    "### Question 1.3 [10 points] CDF (Ogive)\n",
    "Draw the Ogive showing the percentages of voting for Obama (dem_share) in NJ. "
   ]
  },
  {
   "cell_type": "code",
   "execution_count": 9,
   "metadata": {},
   "outputs": [
    {
     "data": {
      "text/plain": [
       "([39.453, 46.88, 54.27, 61.66, 69.05, 76.44],\n",
       " [0,\n",
       "  0.2857142857142857,\n",
       "  0.42857142857142855,\n",
       "  0.7619047619047619,\n",
       "  0.9047619047619047,\n",
       "  0.9999999999999999])"
      ]
     },
     "execution_count": 9,
     "metadata": {},
     "output_type": "execute_result"
    }
   ],
   "source": [
    "# calculate x and y values\n",
    "\n",
    "xvals = [val.right for val in freq_table['BinRange']]\n",
    "xvals.insert(0, freq_table['BinRange'][0].left)\n",
    "\n",
    "yvals = [val for val in freq_table['Rel-Freq'].cumsum()]\n",
    "yvals.insert(0,0)\n",
    "\n",
    "xvals, yvals"
   ]
  },
  {
   "cell_type": "code",
   "execution_count": 10,
   "metadata": {},
   "outputs": [
    {
     "data": {
      "image/png": "[encoded data removed]",
      "text/plain": [
       "<Figure size 432x288 with 1 Axes>"
      ]
     },
     "metadata": {
      "needs_background": "light"
     },
     "output_type": "display_data"
    }
   ],
   "source": [
    "# create ogive \n",
    "\n",
    "plt.plot(xvals, yvals, marker='.')\n",
    "plt.xlabel('% of voters who voted for Obama'), plt.ylabel('Cumulative Rel-Freq')\n",
    "plt.grid()\n",
    "plt.show()"
   ]
  },
  {
   "cell_type": "markdown",
   "metadata": {},
   "source": [
    "## Question 2. Average and variation"
   ]
  },
  {
   "cell_type": "markdown",
   "metadata": {},
   "source": [
    "### Question 2.1 [10 points]\n",
    "Compute the following values of the percentage of voting for Obama (dem_share) in each state:\n",
    "1. minimum value,\n",
    "2. maximum value,\n",
    "3. mean,\n",
    "4. standard deviation (population std),\n",
    "5. the interquartile range\n",
    "\n",
    "Create a dataframe to collect all above data. Each row represents a state and columns represent the above five types of summary statistics. "
   ]
  },
  {
   "cell_type": "code",
   "execution_count": 25,
   "metadata": {},
   "outputs": [
    {
     "data": {
      "text/html": [
       "<div>\n",
       "<style scoped>\n",
       "    .dataframe tbody tr th:only-of-type {\n",
       "        vertical-align: middle;\n",
       "    }\n",
       "\n",
       "    .dataframe tbody tr th {\n",
       "        vertical-align: top;\n",
       "    }\n",
       "\n",
       "    .dataframe thead th {\n",
       "        text-align: right;\n",
       "    }\n",
       "</style>\n",
       "<table border=\"1\" class=\"dataframe\">\n",
       "  <thead>\n",
       "    <tr style=\"text-align: right;\">\n",
       "      <th></th>\n",
       "      <th>mean</th>\n",
       "      <th>std</th>\n",
       "      <th>min</th>\n",
       "      <th>max</th>\n",
       "      <th>IQR</th>\n",
       "    </tr>\n",
       "    <tr>\n",
       "      <th>state</th>\n",
       "      <th></th>\n",
       "      <th></th>\n",
       "      <th></th>\n",
       "      <th></th>\n",
       "      <th></th>\n",
       "    </tr>\n",
       "  </thead>\n",
       "  <tbody>\n",
       "    <tr>\n",
       "      <td>AK</td>\n",
       "      <td>40.127250</td>\n",
       "      <td>11.352997</td>\n",
       "      <td>19.92</td>\n",
       "      <td>66.66</td>\n",
       "      <td>14.8375</td>\n",
       "    </tr>\n",
       "    <tr>\n",
       "      <td>AL</td>\n",
       "      <td>38.564328</td>\n",
       "      <td>17.655682</td>\n",
       "      <td>14.72</td>\n",
       "      <td>87.16</td>\n",
       "      <td>20.4100</td>\n",
       "    </tr>\n",
       "    <tr>\n",
       "      <td>AR</td>\n",
       "      <td>38.043200</td>\n",
       "      <td>9.662051</td>\n",
       "      <td>23.74</td>\n",
       "      <td>64.80</td>\n",
       "      <td>9.7000</td>\n",
       "    </tr>\n",
       "    <tr>\n",
       "      <td>AZ</td>\n",
       "      <td>44.510667</td>\n",
       "      <td>11.094133</td>\n",
       "      <td>29.35</td>\n",
       "      <td>65.76</td>\n",
       "      <td>12.1050</td>\n",
       "    </tr>\n",
       "    <tr>\n",
       "      <td>CA</td>\n",
       "      <td>54.387241</td>\n",
       "      <td>13.451446</td>\n",
       "      <td>30.59</td>\n",
       "      <td>86.01</td>\n",
       "      <td>20.8850</td>\n",
       "    </tr>\n",
       "    <tr>\n",
       "      <td>...</td>\n",
       "      <td>...</td>\n",
       "      <td>...</td>\n",
       "      <td>...</td>\n",
       "      <td>...</td>\n",
       "      <td>...</td>\n",
       "    </tr>\n",
       "    <tr>\n",
       "      <td>VT</td>\n",
       "      <td>66.892857</td>\n",
       "      <td>4.965220</td>\n",
       "      <td>57.44</td>\n",
       "      <td>74.57</td>\n",
       "      <td>7.7800</td>\n",
       "    </tr>\n",
       "    <tr>\n",
       "      <td>WA</td>\n",
       "      <td>48.768718</td>\n",
       "      <td>10.647119</td>\n",
       "      <td>28.46</td>\n",
       "      <td>71.39</td>\n",
       "      <td>15.4650</td>\n",
       "    </tr>\n",
       "    <tr>\n",
       "      <td>WI</td>\n",
       "      <td>55.815556</td>\n",
       "      <td>8.171475</td>\n",
       "      <td>35.02</td>\n",
       "      <td>87.17</td>\n",
       "      <td>9.7525</td>\n",
       "    </tr>\n",
       "    <tr>\n",
       "      <td>WV</td>\n",
       "      <td>41.532364</td>\n",
       "      <td>6.983116</td>\n",
       "      <td>23.95</td>\n",
       "      <td>55.50</td>\n",
       "      <td>8.1400</td>\n",
       "    </tr>\n",
       "    <tr>\n",
       "      <td>WY</td>\n",
       "      <td>29.386522</td>\n",
       "      <td>10.879267</td>\n",
       "      <td>17.10</td>\n",
       "      <td>62.07</td>\n",
       "      <td>11.9950</td>\n",
       "    </tr>\n",
       "  </tbody>\n",
       "</table>\n",
       "<p>51 rows × 5 columns</p>\n",
       "</div>"
      ],
      "text/plain": [
       "            mean        std    min    max      IQR\n",
       "state                                             \n",
       "AK     40.127250  11.352997  19.92  66.66  14.8375\n",
       "AL     38.564328  17.655682  14.72  87.16  20.4100\n",
       "AR     38.043200   9.662051  23.74  64.80   9.7000\n",
       "AZ     44.510667  11.094133  29.35  65.76  12.1050\n",
       "CA     54.387241  13.451446  30.59  86.01  20.8850\n",
       "...          ...        ...    ...    ...      ...\n",
       "VT     66.892857   4.965220  57.44  74.57   7.7800\n",
       "WA     48.768718  10.647119  28.46  71.39  15.4650\n",
       "WI     55.815556   8.171475  35.02  87.17   9.7525\n",
       "WV     41.532364   6.983116  23.95  55.50   8.1400\n",
       "WY     29.386522  10.879267  17.10  62.07  11.9950\n",
       "\n",
       "[51 rows x 5 columns]"
      ]
     },
     "execution_count": 25,
     "metadata": {},
     "output_type": "execute_result"
    }
   ],
   "source": [
    "dem_share_by_state = election.groupby('state')['dem_share'].describe()\n",
    "iqr = dem_share_by_state['75%'] - dem_share_by_state['25%']\n",
    "dem_share_by_state = dem_share_by_state.assign(IQR=iqr).drop(['count', '25%', '50%', '75%'], axis=1)\n",
    "dem_share_by_state"
   ]
  },
  {
   "cell_type": "markdown",
   "metadata": {},
   "source": [
    "### Question 2.2 [5 points] Box plot"
   ]
  },
  {
   "cell_type": "markdown",
   "metadata": {},
   "source": [
    "Make a box-and-whisker plot to show the distribution of the percentage of voting for Obama (dem_share) in two regions (east and west)."
   ]
  },
  {
   "cell_type": "code",
   "execution_count": 26,
   "metadata": {},
   "outputs": [
    {
     "data": {
      "text/plain": [
       "[Text(0, 0.5, 'East vs. West'),\n",
       " Text(0.5, 0, '% of voters who voted for Obama')]"
      ]
     },
     "execution_count": 26,
     "metadata": {},
     "output_type": "execute_result"
    },
    {
     "data": {
      "image/png": "[encoded data removed]",
      "text/plain": [
       "<Figure size 432x288 with 1 Axes>"
      ]
     },
     "metadata": {
      "needs_background": "light"
     },
     "output_type": "display_data"
    }
   ],
   "source": [
    "sns.boxplot(data=election, x='dem_share', y='east_west')\\\n",
    "   .set(xlabel='% of voters who voted for Obama', ylabel='East vs. West')"
   ]
  },
  {
   "cell_type": "markdown",
   "metadata": {},
   "source": [
    "## Question 3. Short answers"
   ]
  },
  {
   "cell_type": "markdown",
   "metadata": {},
   "source": [
    "### 3.1 [2 points]\n",
    "The Covernor of California proposes to give all state employees a flat raise of $250 a month. What would this do to the average monthly salary of state employees? to the standard deviation?"
   ]
  },
  {
   "cell_type": "markdown",
   "metadata": {},
   "source": [
    "Answer:\n",
    "\n",
    "If everyone gets an equal raise, the average monthly salary of the satae employees will increase. However, since the salary increase is flat, the spread of monthly salary data will remain the same, therefore the standard deviation should remain unchanged. The code example below shows this concept. "
   ]
  },
  {
   "cell_type": "code",
   "execution_count": 27,
   "metadata": {},
   "outputs": [
    {
     "name": "stdout",
     "output_type": "stream",
     "text": [
      "salaries    True\n",
      "dtype: bool salaries    True\n",
      "dtype: bool\n"
     ]
    }
   ],
   "source": [
    "salaries = pd.DataFrame({'salaries': [500, 750, 1000, 1250, 576, 800]})\n",
    "salaries_raise = salaries + 250\n",
    "print (salaries.mean() < salaries_raise.mean(), salaries.std() == salaries_raise.std())\n",
    "\n",
    "# results read: \n",
    "\n",
    "# Is the original salary avg less than avg of salaries after flat raise? True\n",
    "# Is the original standard deviation the same after the flat salary raise? True"
   ]
  },
  {
   "cell_type": "markdown",
   "metadata": {},
   "source": [
    "### 3.2 [2 points]\n",
    "Can standard deviation ever be negative? "
   ]
  },
  {
   "cell_type": "markdown",
   "metadata": {},
   "source": [
    "Answer:\n",
    "\n",
    "Becuase the sample variance is calculated through the sum of squares formula, it will never be negative, as any number squared is positive. Furthermore, the standard deviation is calculated by taking the sqauare root of the sample variance. If the sample variance is always positive, then its square root (standard deviation) must also be positive."
   ]
  },
  {
   "cell_type": "markdown",
   "metadata": {},
   "source": [
    "### 3.3 [2 points]\n",
    "For a list of positive numbers, can the standard deviation ever be larger than the average? Give an example to explain your answer."
   ]
  },
  {
   "cell_type": "markdown",
   "metadata": {},
   "source": [
    "Answer:\n",
    "\n",
    "A list of positive numbers that has a dramatic spread of data can have a larger standard deviation than the average. "
   ]
  },
  {
   "cell_type": "code",
   "execution_count": 28,
   "metadata": {},
   "outputs": [
    {
     "data": {
      "text/html": [
       "<div>\n",
       "<style scoped>\n",
       "    .dataframe tbody tr th:only-of-type {\n",
       "        vertical-align: middle;\n",
       "    }\n",
       "\n",
       "    .dataframe tbody tr th {\n",
       "        vertical-align: top;\n",
       "    }\n",
       "\n",
       "    .dataframe thead th {\n",
       "        text-align: right;\n",
       "    }\n",
       "</style>\n",
       "<table border=\"1\" class=\"dataframe\">\n",
       "  <thead>\n",
       "    <tr style=\"text-align: right;\">\n",
       "      <th></th>\n",
       "      <th>mean</th>\n",
       "      <th>std</th>\n",
       "    </tr>\n",
       "    <tr>\n",
       "      <th>state</th>\n",
       "      <th></th>\n",
       "      <th></th>\n",
       "    </tr>\n",
       "  </thead>\n",
       "  <tbody>\n",
       "    <tr>\n",
       "      <td>AL</td>\n",
       "      <td>31340.582090</td>\n",
       "      <td>48238.788511</td>\n",
       "    </tr>\n",
       "    <tr>\n",
       "      <td>AR</td>\n",
       "      <td>14488.226667</td>\n",
       "      <td>22231.417191</td>\n",
       "    </tr>\n",
       "    <tr>\n",
       "      <td>AZ</td>\n",
       "      <td>152898.333333</td>\n",
       "      <td>348743.395004</td>\n",
       "    </tr>\n",
       "    <tr>\n",
       "      <td>CA</td>\n",
       "      <td>233825.862069</td>\n",
       "      <td>488982.547111</td>\n",
       "    </tr>\n",
       "    <tr>\n",
       "      <td>CO</td>\n",
       "      <td>37521.265625</td>\n",
       "      <td>74437.019411</td>\n",
       "    </tr>\n",
       "    <tr>\n",
       "      <td>...</td>\n",
       "      <td>...</td>\n",
       "      <td>...</td>\n",
       "    </tr>\n",
       "    <tr>\n",
       "      <td>UT</td>\n",
       "      <td>32840.344828</td>\n",
       "      <td>73043.175647</td>\n",
       "    </tr>\n",
       "    <tr>\n",
       "      <td>VA</td>\n",
       "      <td>27785.052239</td>\n",
       "      <td>54948.295037</td>\n",
       "    </tr>\n",
       "    <tr>\n",
       "      <td>WA</td>\n",
       "      <td>77868.666667</td>\n",
       "      <td>160261.099877</td>\n",
       "    </tr>\n",
       "    <tr>\n",
       "      <td>WI</td>\n",
       "      <td>41436.347222</td>\n",
       "      <td>69541.069008</td>\n",
       "    </tr>\n",
       "    <tr>\n",
       "      <td>WV</td>\n",
       "      <td>12970.218182</td>\n",
       "      <td>13504.038434</td>\n",
       "    </tr>\n",
       "  </tbody>\n",
       "</table>\n",
       "<p>40 rows × 2 columns</p>\n",
       "</div>"
      ],
      "text/plain": [
       "                mean            std\n",
       "state                              \n",
       "AL      31340.582090   48238.788511\n",
       "AR      14488.226667   22231.417191\n",
       "AZ     152898.333333  348743.395004\n",
       "CA     233825.862069  488982.547111\n",
       "CO      37521.265625   74437.019411\n",
       "...              ...            ...\n",
       "UT      32840.344828   73043.175647\n",
       "VA      27785.052239   54948.295037\n",
       "WA      77868.666667  160261.099877\n",
       "WI      41436.347222   69541.069008\n",
       "WV      12970.218182   13504.038434\n",
       "\n",
       "[40 rows x 2 columns]"
      ]
     },
     "execution_count": 28,
     "metadata": {},
     "output_type": "execute_result"
    }
   ],
   "source": [
    "# This example shows that for the total number of votes per state (data collected from all counties), \n",
    "# the standard deviation is greater than the average (mean) for 40 out of 50 states (80%).\n",
    "\n",
    "votes_bystate = election.groupby('state')['total_votes'].describe()\\\n",
    "                        .drop(['count', 'min', '25%', '50%', '75%', 'max'], axis=1)\n",
    "votes_bystate[votes_bystate['std'] > votes_bystate['mean']]"
   ]
  },
  {
   "cell_type": "markdown",
   "metadata": {},
   "source": [
    "### 3.4 [4 points]\n",
    "An investigator has a computer file showing family incomes for 2,000 subjects in a certain study. These range from $5,800 a year to $ 96,800 a year. By accident, the highest income in the file gets changed to $968,000.\n",
    "\n",
    "1. Doese this affect the average? If so, by how much?\n",
    "2. Does this affect the median? If so, by how much?"
   ]
  },
  {
   "cell_type": "markdown",
   "metadata": {},
   "source": [
    "Answer:\n",
    "\n",
    "1. The average will increase by a significant margin, considering the highest value is now 10x the previous highest value, and ~167x the lowest value (compared to ~17x before the error is made). The more subjects in a study, the less the average will be affected. In this case, a severe alteration that misrepresents the average of the data is to be expected. \n",
    "\n",
    "2. The median will remain unchanged, as only the highest value was changed, and no additional values were added. In other words, the median remains the same since the number of data values (and order) is unchanged."
   ]
  }
 ],
 "metadata": {
  "kernelspec": {
   "display_name": "Python 3",
   "language": "python",
   "name": "python3"
  },
  "language_info": {
   "codemirror_mode": {
    "name": "ipython",
    "version": 3
   },
   "file_extension": ".py",
   "mimetype": "text/x-python",
   "name": "python",
   "nbconvert_exporter": "python",
   "pygments_lexer": "ipython3",
   "version": "3.7.4"
  }
 },
 "nbformat": 4,
 "nbformat_minor": 4
}
